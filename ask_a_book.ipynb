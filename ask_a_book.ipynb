{
 "cells": [
  {
   "cell_type": "markdown",
   "metadata": {},
   "source": [
    "# OPL stack\n",
    "\n",
    "### Openai\n",
    "### Pinecone\n",
    "### Langchain"
   ]
  },
  {
   "cell_type": "code",
   "execution_count": 13,
   "metadata": {},
   "outputs": [],
   "source": [
    "from langchain.document_loaders import UnstructuredPDFLoader, OnlinePDFLoader, PyPDFLoader, TextLoader\n",
    "from langchain.text_splitter import RecursiveCharacterTextSplitter"
   ]
  },
  {
   "cell_type": "markdown",
   "metadata": {},
   "source": [
    "### Loading data\n"
   ]
  },
  {
   "cell_type": "code",
   "execution_count": 15,
   "metadata": {},
   "outputs": [],
   "source": [
    "loader = PyPDFLoader(\"The-Field-Guide-to-Data-Science.pdf\")\n"
   ]
  },
  {
   "cell_type": "code",
   "execution_count": 16,
   "metadata": {},
   "outputs": [],
   "source": [
    "data = loader.load()"
   ]
  },
  {
   "cell_type": "code",
   "execution_count": 18,
   "metadata": {},
   "outputs": [
    {
     "data": {
      "text/plain": [
       "Document(page_content='MEET  your  GUIDES\\nMark Herman \\n(@cloudEBITDA)\\nEnd every analysis with …  \\n‘and therefore’  \\nJosh Sullivan \\n(@joshdsullivan)\\nLeading our Data Science team \\nshows me every day the incredible \\npower of discovery and human \\ncuriosity. Don’t be afraid to blend \\nart and science to advance your \\nown view of data analytics – it \\ncan be a powerful mixture.Stephanie Rivera \\n(@boozallen)\\nI treat Data Science like I do rock \\nclimbing: awesome dedication \\nleads to incremental improvement. \\nPersistence leads to the top.\\nPeter Guerra \\n(@petrguerra)\\nData Science is the most fascinating \\nblend of art and math and code \\nand sweat and tears. It can take \\nyou to the highest heights and the \\nlowest depths in an instant, but it \\nis the only way we will be able to \\nunderstand and describe the why.\\n\\xa0Steven Mills \\n(@stevndmills)\\nData Science, like life, is not linear. \\nIt’s complex, intertwined, and can be \\nbeautiful. Success requires the support \\nof your friends and colleagues. \\nAlex Cosmas \\n(@boozallen)\\nData miners produce bottle cap facts \\n(e.g., animals that lay eggs don’t have \\nbelly buttons). Data Scientists produce \\ninsights - they require the intellectual \\ncuriosity to ask “why” or “so what”?/guilsinglright.cap/guilsinglright.cap\\nTHE FIELD  GUIDE to  DATA  SCIENCE', metadata={'source': 'The-Field-Guide-to-Data-Science.pdf', 'page': 10})"
      ]
     },
     "execution_count": 18,
     "metadata": {},
     "output_type": "execute_result"
    }
   ],
   "source": [
    "data[10]"
   ]
  },
  {
   "cell_type": "code",
   "execution_count": 23,
   "metadata": {},
   "outputs": [
    {
     "name": "stdout",
     "output_type": "stream",
     "text": [
      "now you have 110\n"
     ]
    }
   ],
   "source": [
    "print(f'now you have {len(data)}')"
   ]
  },
  {
   "cell_type": "markdown",
   "metadata": {},
   "source": [
    "### Chunk the data into smaller dcouments"
   ]
  },
  {
   "cell_type": "code",
   "execution_count": 20,
   "metadata": {},
   "outputs": [],
   "source": [
    "text_splitter = RecursiveCharacterTextSplitter(chunk_size = 1000, chunk_overlap = 0)\n",
    "texts = text_splitter.split_documents(data)"
   ]
  },
  {
   "cell_type": "code",
   "execution_count": 22,
   "metadata": {},
   "outputs": [
    {
     "name": "stdout",
     "output_type": "stream",
     "text": [
      "now you have 215 documents\n"
     ]
    }
   ],
   "source": [
    "print(f'now you have {len(texts)} documents')"
   ]
  },
  {
   "cell_type": "code",
   "execution_count": 25,
   "metadata": {},
   "outputs": [
    {
     "data": {
      "text/plain": [
       "Document(page_content='Fractal Analytic Model\\nData Science analytics are a lot like broccoli. \\nFractals are mathematical sets that display self-similar patterns. As \\nyou zoom in on a fractal, the same patterns reappear. Imagine a stalk \\nof broccoli. Rip oﬀ a piece of broccoli and the piece looks much like \\nthe original stalk. Progressively smaller pieces of broccoli still look like \\nthe original stalk.\\nData Science analytics are a lot like broccoli – fractal in nature in \\nboth time and construction. Early versions of an analytic follow the \\nsame development process as later versions. At any given iteration, the \\nanalytic itself is a collection of smaller analytics that often decompose \\ninto yet smaller analytics.\\nTHE FIELD  GUIDE to  DATA  SCIENCE', metadata={'source': 'The-Field-Guide-to-Data-Science.pdf', 'page': 54})"
      ]
     },
     "execution_count": 25,
     "metadata": {},
     "output_type": "execute_result"
    }
   ],
   "source": [
    "texts[100]"
   ]
  },
  {
   "cell_type": "markdown",
   "metadata": {},
   "source": [
    "### Create embedding for your documents"
   ]
  },
  {
   "cell_type": "code",
   "execution_count": 27,
   "metadata": {},
   "outputs": [
    {
     "name": "stderr",
     "output_type": "stream",
     "text": [
      "c:\\Users\\Haseeb\\anaconda3\\envs\\llm\\Lib\\site-packages\\pinecone\\index.py:4: TqdmWarning: IProgress not found. Please update jupyter and ipywidgets. See https://ipywidgets.readthedocs.io/en/stable/user_install.html\n",
      "  from tqdm.autonotebook import tqdm\n"
     ]
    }
   ],
   "source": [
    "from langchain.vectorstores import Chroma, Pinecone\n",
    "from langchain.embeddings.openai import OpenAIEmbeddings\n",
    "import pinecone"
   ]
  },
  {
   "cell_type": "code",
   "execution_count": null,
   "metadata": {},
   "outputs": [],
   "source": [
    "key = ''"
   ]
  },
  {
   "cell_type": "code",
   "execution_count": 45,
   "metadata": {},
   "outputs": [],
   "source": [
    "embeddings = OpenAIEmbeddings(openai_api_key= key)"
   ]
  },
  {
   "cell_type": "code",
   "execution_count": null,
   "metadata": {},
   "outputs": [],
   "source": [
    "pinecone_key = ''"
   ]
  },
  {
   "cell_type": "code",
   "execution_count": 30,
   "metadata": {},
   "outputs": [],
   "source": [
    "#pinecone\n",
    "pinecone.init(\n",
    "    api_key = pinecone_key,\n",
    "    environment='gcp-starter',\n",
    "    )\n",
    "\n",
    "index_name = langchain1"
   ]
  },
  {
   "cell_type": "code",
   "execution_count": 36,
   "metadata": {},
   "outputs": [],
   "source": [
    "#getting text from the page content and embedding it and sending it to pinecone\n",
    "dosearch = Pinecone.from_texts([t.page_content for t in texts], embeddings, index_name=index_name)"
   ]
  },
  {
   "cell_type": "code",
   "execution_count": 40,
   "metadata": {},
   "outputs": [
    {
     "name": "stdout",
     "output_type": "stream",
     "text": [
      "[Document(page_content='FOREWORD\\nEvery aspect of our lives, from life-saving disease \\ntreatments, to national security, to economic stability \\nand even the convenience of selecting a restaurant, \\ncan be improved by creating better data analytics \\nthrough Data Science. \\nWe live in a world of incredible \\nbeauty and complexity. A world \\nincreasingly measured, mapped, \\nand recorded into digital bits for \\neternity. Our human existence \\nis pouring into the digital realm \\nfaster than ever. From global \\nbusiness operations to simple \\nexpressions of love – an essential \\npart of humanity now exists in \\nthe digital world. \\nData  is the byproduct of our \\nnew digital existence.  Recorded \\nbits of data from mundane \\ntraﬃc cameras to telescopes \\npeering into the depths of \\nspace are propelling us into \\nthe greatest age of discovery \\nour species has ever known. \\nAs we move from isolation into \\nour ever-connected and recorded \\nfuture, data is becoming the \\nnew currency and a vital natural', metadata={}), Document(page_content='THE FIELD  GUIDE to  DATA  SCIENCE', metadata={}), Document(page_content='Fortunately for our economy, most organizations began to inform \\ntheir decisions with real information through the application of \\nsimple statistics. /T_hose that did it well were rewarded; those that did \\nnot failed. We are outgrowing the ability of simple stats to keep pace \\nwith market demands, however. /T_he rapid expansion of available data, \\nand the tools to access and make use of the data at scale, are enabling \\nfundamental changes to the way organizations make decisions. \\nData Science is required to maintain competitiveness in the \\nincreasingly data-rich environment. Much like the application of \\nsimple statistics, organizations that embrace Data Science will be \\nrewarded while those that do not will be challenged to keep pace. \\nAs more complex, disparate data sets become available, the chasm \\nbetween these groups will only continue to widen. /T_he /f_igure, \\n/T_he Business Impacts of Data Science, highlights the value awaiting \\norganizations that embrace Data Science.', metadata={}), Document(page_content='extension of our Business \\nIntelligence and cloud infrastructure development  \\nwork. We saw the need for a  \\nnew approach to distill value \\nfrom our clients’ data. We \\napproached the problem \\nwith a multidisciplinary \\nteam of computer scientists, \\nmathematicians and domain \\nexperts. /T_hey immediately \\nproduced new insights and \\nanalysis paths, solidifying the \\nvalidity of the approach. Since \\nthat time, our Data Science  \\nteam has grown to 250 staﬀ \\nsupporting dozens of clients \\nacross a variety of domains.  \\n/T_his breadth of experience \\nprovides a unique perspective  \\non the conceptual models, \\ntradecraft, processes and culture \\nof Data Science.', metadata={})]\n"
     ]
    }
   ],
   "source": [
    "#searching for query in doc on the base of higest cosine similarity\n",
    "query = \"data science\"\n",
    "results = dosearch.similarity_search(query)"
   ]
  },
  {
   "cell_type": "code",
   "execution_count": 41,
   "metadata": {},
   "outputs": [
    {
     "data": {
      "text/plain": [
       "[Document(page_content='FOREWORD\\nEvery aspect of our lives, from life-saving disease \\ntreatments, to national security, to economic stability \\nand even the convenience of selecting a restaurant, \\ncan be improved by creating better data analytics \\nthrough Data Science. \\nWe live in a world of incredible \\nbeauty and complexity. A world \\nincreasingly measured, mapped, \\nand recorded into digital bits for \\neternity. Our human existence \\nis pouring into the digital realm \\nfaster than ever. From global \\nbusiness operations to simple \\nexpressions of love – an essential \\npart of humanity now exists in \\nthe digital world. \\nData  is the byproduct of our \\nnew digital existence.  Recorded \\nbits of data from mundane \\ntraﬃc cameras to telescopes \\npeering into the depths of \\nspace are propelling us into \\nthe greatest age of discovery \\nour species has ever known. \\nAs we move from isolation into \\nour ever-connected and recorded \\nfuture, data is becoming the \\nnew currency and a vital natural', metadata={}),\n",
       " Document(page_content='THE FIELD  GUIDE to  DATA  SCIENCE', metadata={}),\n",
       " Document(page_content='Fortunately for our economy, most organizations began to inform \\ntheir decisions with real information through the application of \\nsimple statistics. /T_hose that did it well were rewarded; those that did \\nnot failed. We are outgrowing the ability of simple stats to keep pace \\nwith market demands, however. /T_he rapid expansion of available data, \\nand the tools to access and make use of the data at scale, are enabling \\nfundamental changes to the way organizations make decisions. \\nData Science is required to maintain competitiveness in the \\nincreasingly data-rich environment. Much like the application of \\nsimple statistics, organizations that embrace Data Science will be \\nrewarded while those that do not will be challenged to keep pace. \\nAs more complex, disparate data sets become available, the chasm \\nbetween these groups will only continue to widen. /T_he /f_igure, \\n/T_he Business Impacts of Data Science, highlights the value awaiting \\norganizations that embrace Data Science.', metadata={}),\n",
       " Document(page_content='extension of our Business \\nIntelligence and cloud infrastructure development  \\nwork. We saw the need for a  \\nnew approach to distill value \\nfrom our clients’ data. We \\napproached the problem \\nwith a multidisciplinary \\nteam of computer scientists, \\nmathematicians and domain \\nexperts. /T_hey immediately \\nproduced new insights and \\nanalysis paths, solidifying the \\nvalidity of the approach. Since \\nthat time, our Data Science  \\nteam has grown to 250 staﬀ \\nsupporting dozens of clients \\nacross a variety of domains.  \\n/T_his breadth of experience \\nprovides a unique perspective  \\non the conceptual models, \\ntradecraft, processes and culture \\nof Data Science.', metadata={})]"
      ]
     },
     "execution_count": 41,
     "metadata": {},
     "output_type": "execute_result"
    }
   ],
   "source": [
    "results"
   ]
  },
  {
   "cell_type": "markdown",
   "metadata": {},
   "source": [
    "### Query thoes docs to answer to get answer back "
   ]
  },
  {
   "cell_type": "code",
   "execution_count": 43,
   "metadata": {},
   "outputs": [],
   "source": [
    "from langchain.llms import OpenAI\n",
    "from langchain.chains.question_answering import load_qa_chain"
   ]
  },
  {
   "cell_type": "code",
   "execution_count": 47,
   "metadata": {},
   "outputs": [],
   "source": [
    "llm = OpenAI(temperature=0, openai_api_key = key)\n",
    "chain = load_qa_chain(llm, chain_type=\"stuff\")\n"
   ]
  },
  {
   "cell_type": "code",
   "execution_count": 48,
   "metadata": {},
   "outputs": [],
   "source": [
    "query = \"what are the example of good data science projects?\"\n",
    "docs = dosearch.similarity_search(query)\n"
   ]
  },
  {
   "cell_type": "code",
   "execution_count": 49,
   "metadata": {},
   "outputs": [
    {
     "data": {
      "text/plain": [
       "' Examples of good data science projects include movie recommendations, weather forecasts, stock market predictions, production process improvements, health diagnosis, flu trend predictions, and targeted advertising.'"
      ]
     },
     "execution_count": 49,
     "metadata": {},
     "output_type": "execute_result"
    }
   ],
   "source": [
    "chain.run(input_documents = docs, question = query)"
   ]
  },
  {
   "cell_type": "markdown",
   "metadata": {},
   "source": [
    "' Examples of good data science projects include movie recommendations, weather forecasts, stock market predictions, production process improvements, health diagnosis, flu trend predictions, and targeted advertising.'\n"
   ]
  }
 ],
 "metadata": {
  "kernelspec": {
   "display_name": "llm",
   "language": "python",
   "name": "python3"
  },
  "language_info": {
   "codemirror_mode": {
    "name": "ipython",
    "version": 3
   },
   "file_extension": ".py",
   "mimetype": "text/x-python",
   "name": "python",
   "nbconvert_exporter": "python",
   "pygments_lexer": "ipython3",
   "version": "3.11.4"
  }
 },
 "nbformat": 4,
 "nbformat_minor": 2
}
